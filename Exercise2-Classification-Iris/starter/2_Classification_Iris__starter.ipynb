{
 "cells": [
  {
   "cell_type": "markdown",
   "id": "5b6ac3b0-d37a-425b-b6df-3b4c747cba41",
   "metadata": {},
   "source": [
    "# Exercise: Classify Flowers with a Decision Tree\n",
    "\n",
    "In this exercise, we'll classify three different iris flower types using a decision tree classifier. \n",
    "\n",
    "Your tasks are the following:\n",
    "\n",
    "- Identify the data types of `X` and `y`\n",
    "- Get an overview of the dataset\n",
    "- Plot a histogram of the data\n",
    "- Split into training and test data\n",
    "- Examine the shape of your training data\n",
    "- Train a decision tree\n",
    "- Make predictions with your model\n",
    "- Calculate the accuracy"
   ]
  },
  {
   "cell_type": "markdown",
   "id": "25abf522",
   "metadata": {},
   "source": [
    "## 1. Data Analysis"
   ]
  },
  {
   "cell_type": "code",
   "execution_count": 1,
   "id": "97dd7aff-377a-4bc1-b3d5-cc61c72009a4",
   "metadata": {},
   "outputs": [],
   "source": [
    "# import packages\n",
    "import numpy as np \n",
    "import sklearn \n",
    "import matplotlib.pyplot as plt\n",
    "%matplotlib inline"
   ]
  },
  {
   "cell_type": "code",
   "execution_count": 2,
   "id": "8691ce75-ff19-4f12-aff5-2265126386ab",
   "metadata": {},
   "outputs": [
    {
     "data": {
      "text/plain": [
       "['data',\n",
       " 'target',\n",
       " 'frame',\n",
       " 'target_names',\n",
       " 'DESCR',\n",
       " 'feature_names',\n",
       " 'filename',\n",
       " 'data_module']"
      ]
     },
     "execution_count": 2,
     "metadata": {},
     "output_type": "execute_result"
    }
   ],
   "source": [
    "# load data\n",
    "from sklearn.datasets import load_iris\n",
    "\n",
    "iris = load_iris(as_frame=True)\n",
    "list(iris)"
   ]
  },
  {
   "cell_type": "code",
   "execution_count": 3,
   "id": "2d2fad92",
   "metadata": {},
   "outputs": [],
   "source": [
    "# store features and labels in X and y\n",
    "X = iris.data\n",
    "y = iris.target"
   ]
  },
  {
   "cell_type": "code",
   "execution_count": 4,
   "id": "bbada9b3",
   "metadata": {},
   "outputs": [
    {
     "name": "stdout",
     "output_type": "stream",
     "text": [
      ".. _iris_dataset:\n",
      "\n",
      "Iris plants dataset\n",
      "--------------------\n",
      "\n",
      "**Data Set Characteristics:**\n",
      "\n",
      ":Number of Instances: 150 (50 in each of three classes)\n",
      ":Number of Attributes: 4 numeric, predictive attributes and the class\n",
      ":Attribute Information:\n",
      "    - sepal length in cm\n",
      "    - sepal width in cm\n",
      "    - petal length in cm\n",
      "    - petal width in cm\n",
      "    - class:\n",
      "            - Iris-Setosa\n",
      "            - Iris-Versicolour\n",
      "            - Iris-Virginica\n",
      "\n",
      ":Summary Statistics:\n",
      "\n",
      "============== ==== ==== ======= ===== ====================\n",
      "                Min  Max   Mean    SD   Class Correlation\n",
      "============== ==== ==== ======= ===== ====================\n",
      "sepal length:   4.3  7.9   5.84   0.83    0.7826\n",
      "sepal width:    2.0  4.4   3.05   0.43   -0.4194\n",
      "petal length:   1.0  6.9   3.76   1.76    0.9490  (high!)\n",
      "petal width:    0.1  2.5   1.20   0.76    0.9565  (high!)\n",
      "============== ==== ==== ======= ===== ====================\n",
      "\n",
      ":Missing Attribute Values: None\n",
      ":Class Distribution: 33.3% for each of 3 classes.\n",
      ":Creator: R.A. Fisher\n",
      ":Donor: Michael Marshall (MARSHALL%PLU@io.arc.nasa.gov)\n",
      ":Date: July, 1988\n",
      "\n",
      "The famous Iris database, first used by Sir R.A. Fisher. The dataset is taken\n",
      "from Fisher's paper. Note that it's the same as in R, but not as in the UCI\n",
      "Machine Learning Repository, which has two wrong data points.\n",
      "\n",
      "This is perhaps the best known database to be found in the\n",
      "pattern recognition literature.  Fisher's paper is a classic in the field and\n",
      "is referenced frequently to this day.  (See Duda & Hart, for example.)  The\n",
      "data set contains 3 classes of 50 instances each, where each class refers to a\n",
      "type of iris plant.  One class is linearly separable from the other 2; the\n",
      "latter are NOT linearly separable from each other.\n",
      "\n",
      ".. dropdown:: References\n",
      "\n",
      "  - Fisher, R.A. \"The use of multiple measurements in taxonomic problems\"\n",
      "    Annual Eugenics, 7, Part II, 179-188 (1936); also in \"Contributions to\n",
      "    Mathematical Statistics\" (John Wiley, NY, 1950).\n",
      "  - Duda, R.O., & Hart, P.E. (1973) Pattern Classification and Scene Analysis.\n",
      "    (Q327.D83) John Wiley & Sons.  ISBN 0-471-22361-1.  See page 218.\n",
      "  - Dasarathy, B.V. (1980) \"Nosing Around the Neighborhood: A New System\n",
      "    Structure and Classification Rule for Recognition in Partially Exposed\n",
      "    Environments\".  IEEE Transactions on Pattern Analysis and Machine\n",
      "    Intelligence, Vol. PAMI-2, No. 1, 67-71.\n",
      "  - Gates, G.W. (1972) \"The Reduced Nearest Neighbor Rule\".  IEEE Transactions\n",
      "    on Information Theory, May 1972, 431-433.\n",
      "  - See also: 1988 MLC Proceedings, 54-64.  Cheeseman et al\"s AUTOCLASS II\n",
      "    conceptual clustering system finds 3 classes in the data.\n",
      "  - Many, many more ...\n",
      "\n"
     ]
    }
   ],
   "source": [
    "# print description of dataset\n",
    "print(iris.DESCR)"
   ]
  },
  {
   "cell_type": "markdown",
   "id": "2f555d75",
   "metadata": {},
   "source": [
    "**TODO**: Which data types are X and y, respectively?"
   ]
  },
  {
   "cell_type": "code",
   "execution_count": 5,
   "id": "67fd9f21",
   "metadata": {},
   "outputs": [],
   "source": [
    "# TODO: YOUR CODE GOES HERE"
   ]
  },
  {
   "cell_type": "markdown",
   "id": "f379f340",
   "metadata": {},
   "source": [
    "**YOUR ANSWER**:"
   ]
  },
  {
   "cell_type": "markdown",
   "id": "dc093f06",
   "metadata": {},
   "source": [
    "**TODO**: Get an overview of the dataset and answer the following questions:\n",
    "- How many features are in the dataset?\n",
    "- How many samples are in the dataset?\n",
    "- Which labels do exist?\n",
    "- Are there empty data entries that we have to take care of?\n",
    "- Are there categorical or numerical attributes?"
   ]
  },
  {
   "cell_type": "code",
   "execution_count": 6,
   "id": "b9484239",
   "metadata": {},
   "outputs": [],
   "source": [
    "# TODO: YOUR CODE GOES HERE"
   ]
  },
  {
   "cell_type": "markdown",
   "id": "7a843953",
   "metadata": {},
   "source": [
    "**YOUR ANSWER**:"
   ]
  },
  {
   "cell_type": "markdown",
   "id": "92b578bf",
   "metadata": {},
   "source": [
    "**TODO**: Plot a histogram of the data. Can you guess which features might be more important than others?"
   ]
  },
  {
   "cell_type": "code",
   "execution_count": 7,
   "id": "84df9c66",
   "metadata": {},
   "outputs": [],
   "source": [
    "# TODO: YOUR CODE GOES HERE"
   ]
  },
  {
   "cell_type": "markdown",
   "id": "3a4f6255",
   "metadata": {},
   "source": [
    "**YOUR ANSWER**:"
   ]
  },
  {
   "cell_type": "markdown",
   "id": "7256500d",
   "metadata": {},
   "source": [
    "# 2. Training and Evaluation"
   ]
  },
  {
   "cell_type": "code",
   "execution_count": 8,
   "id": "9eaa798f",
   "metadata": {},
   "outputs": [],
   "source": [
    "# we only use 2 features for training\n",
    "X = iris.data[[\"petal length (cm)\", \"petal width (cm)\"]]"
   ]
  },
  {
   "cell_type": "markdown",
   "id": "428e01b6",
   "metadata": {},
   "source": [
    "**TODO**: Split `X` and `y` in training and test data. Save the result in variables called `X_train`, `X_test`, `y_train`, `y_test`. "
   ]
  },
  {
   "cell_type": "code",
   "execution_count": 9,
   "id": "59594d68",
   "metadata": {},
   "outputs": [],
   "source": [
    "# TODO: YOUR CODE GOES HERE"
   ]
  },
  {
   "cell_type": "markdown",
   "id": "c584f547",
   "metadata": {},
   "source": [
    "**TODO**: How many samples are contained in `X_test`? Which data format do we have here?"
   ]
  },
  {
   "cell_type": "code",
   "execution_count": 10,
   "id": "19666caa",
   "metadata": {},
   "outputs": [],
   "source": [
    "# TODO: YOUR CODE GOES HERE"
   ]
  },
  {
   "cell_type": "markdown",
   "id": "d9e43b8a",
   "metadata": {},
   "source": [
    "**YOUR ANSWER**:"
   ]
  },
  {
   "cell_type": "markdown",
   "id": "3d7feb0b",
   "metadata": {},
   "source": [
    "**TODO**: Fit a `DecisionTreeClassifier` with `max_depth=3` and `random_state` set to a value of your choice on the training data!"
   ]
  },
  {
   "cell_type": "code",
   "execution_count": 11,
   "id": "6e046ffb",
   "metadata": {},
   "outputs": [],
   "source": [
    "# TODO: YOUR CODE GOES HERE"
   ]
  },
  {
   "cell_type": "markdown",
   "id": "4ba48bda",
   "metadata": {},
   "source": [
    "**TODO**: Calculate the predictions on training and test data and save the result in `y_pred_train` and `y_pred_test`, respectively."
   ]
  },
  {
   "cell_type": "code",
   "execution_count": 12,
   "id": "286658f4",
   "metadata": {},
   "outputs": [],
   "source": [
    "# TODO: YOUR CODE GOES HERE"
   ]
  },
  {
   "cell_type": "markdown",
   "id": "22d3cf6c",
   "metadata": {},
   "source": [
    "**TODO**: Evaluate your model by calculating the accuracy on training and test data, i.e. the number of correctly classified samples normalized over all samples:\n",
    "\n",
    "$\n",
    "\\text{Accuracy} = \\frac{\\text{\\# correctly classified samples}}{\\text{\\# samples}}\n",
    "$"
   ]
  },
  {
   "cell_type": "code",
   "execution_count": 13,
   "id": "7757819b",
   "metadata": {},
   "outputs": [],
   "source": [
    "# TODO: YOUR CODE GOES HERE"
   ]
  }
 ],
 "metadata": {
  "kernelspec": {
   "display_name": "Python 3 (ipykernel)",
   "language": "python",
   "name": "python3"
  },
  "language_info": {
   "codemirror_mode": {
    "name": "ipython",
    "version": 3
   },
   "file_extension": ".py",
   "mimetype": "text/x-python",
   "name": "python",
   "nbconvert_exporter": "python",
   "pygments_lexer": "ipython3",
   "version": "3.11.7"
  }
 },
 "nbformat": 4,
 "nbformat_minor": 5
}
